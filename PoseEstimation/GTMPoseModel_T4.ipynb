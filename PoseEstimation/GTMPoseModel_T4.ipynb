{
 "cells": [
  {
   "cell_type": "code",
   "execution_count": null,
   "id": "6438af18-84a4-4518-98d2-0acd0f390631",
   "metadata": {},
   "outputs": [],
   "source": [
    "import tensorflow as tf\n",
    "import tensorflow_hub as hub\n",
    "import cv2\n",
    "import numpy as np\n",
    "import os\n",
    "import matplotlib.pyplot as plt\n",
    "from sklearn.model_selection import train_test_split"
   ]
  },
  {
   "cell_type": "code",
   "execution_count": null,
   "id": "d3101610-329e-42b1-8b15-3922752f4711",
   "metadata": {},
   "outputs": [],
   "source": [
    "#Load MoveNet model\n",
    "model = hub.load('https://tfhub.dev/google/movenet/singlepose/thunder/4')\n",
    "movenet = model.signatures['serving_default']"
   ]
  },
  {
   "cell_type": "code",
   "execution_count": null,
   "id": "37552c52-2f20-43a8-afd1-c171478fd7dd",
   "metadata": {},
   "outputs": [],
   "source": [
    "# Improved keypoint processing with augmentation\n",
    "def process_image(image):\n",
    "    image = tf.image.resize_with_pad(image, 256, 256)  # Higher resolution for Thunder\n",
    "    return tf.cast(image, dtype=tf.int32)\n",
    "\n",
    "def extract_keypoints(image):\n",
    "    image = tf.convert_to_tensor(image)\n",
    "    image = process_image(image)\n",
    "    outputs = movenet(tf.expand_dims(image, axis=0))\n",
    "    keypoints = outputs['output_0'].numpy()[0][0]\n",
    "    \n",
    "    # Confidence check and filtering\n",
    "    if np.mean(keypoints[:,2]) < 0.2:  # Reject low-confidence detections\n",
    "        return None\n",
    "    return keypoints\n",
    "\n"
   ]
  },
  {
   "cell_type": "code",
   "execution_count": null,
   "id": "88bf65b9-951a-45ef-8826-f48740b8ff40",
   "metadata": {},
   "outputs": [],
   "source": [
    "# Robust normalization with augmentation\n",
    "def normalize_and_augment(keypoints):\n",
    "    # Center around mid-hip\n",
    "    hip = (keypoints[11] + keypoints[12]) / 2  # Average left/right hips\n",
    "    normalized = keypoints - hip\n",
    "    \n",
    "    # Scale based on shoulder distance\n",
    "    shoulders = normalized[5] - normalized[6]\n",
    "    scale = np.linalg.norm(shoulders) + 1e-7\n",
    "    normalized /= scale\n",
    "    \n",
    "    # Data augmentation\n",
    "    if np.random.rand() > 0.5:  # 50% chance to augment\n",
    "        # Add noise\n",
    "        normalized += np.random.normal(0, 0.05, normalized.shape)\n",
    "        # Flip horizontally\n",
    "        normalized[:,0] *= -1\n",
    "        \n",
    "    return normalized.flatten()"
   ]
  },
  {
   "cell_type": "code",
   "execution_count": null,
   "id": "366b8bf3-2ae0-4bab-862e-697efd3fed58",
   "metadata": {},
   "outputs": [],
   "source": [
    "# Dataset preparation with auto-augmentation\n",
    "def prepare_dataset(data_dir, augment_factor=5):\n",
    "    X = []\n",
    "    y = []\n",
    "    class_names = sorted(os.listdir(data_dir))\n",
    "    \n",
    "    for class_idx, class_name in enumerate(class_names):\n",
    "        class_path = os.path.join(data_dir, class_name)\n",
    "        for img_file in os.listdir(class_path):\n",
    "            img_path = os.path.join(class_path, img_file)\n",
    "            img = cv2.imread(img_path)\n",
    "            if img is None:\n",
    "                continue\n",
    "                \n",
    "            img = cv2.cvtColor(img, cv2.COLOR_BGR2RGB)\n",
    "            keypoints = extract_keypoints(img)\n",
    "            if keypoints is None:\n",
    "                continue\n",
    "                \n",
    "            # Original sample\n",
    "            normalized = normalize_and_augment(keypoints)\n",
    "            X.append(normalized)\n",
    "            y.append(class_idx)\n",
    "            \n",
    "            # Generate augmented samples\n",
    "            for _ in range(augment_factor):\n",
    "                augmented = normalize_and_augment(keypoints)\n",
    "                X.append(augmented)\n",
    "                y.append(class_idx)\n",
    "    \n",
    "    return np.array(X), np.array(y), class_names"
   ]
  },
  {
   "cell_type": "code",
   "execution_count": null,
   "id": "52e0e898-d653-4083-b91b-aceefdeacc98",
   "metadata": {},
   "outputs": [],
   "source": [
    "# Replace with your dataset path\n",
    "X, y, class_names = prepare_dataset('C:/Users/5A_Traders/Downloads/FYP_ON_DEV/FYP_IntelliTrain/PoseEstimation/Dataset/archive')"
   ]
  },
  {
   "cell_type": "code",
   "execution_count": null,
   "id": "9b381406-9993-47b8-89ee-1050d12a62a6",
   "metadata": {},
   "outputs": [],
   "source": [
    "# Step 6: Split dataset\n",
    "X_train, X_test, y_train, y_test = train_test_split(\n",
    "    X, y, test_size=0.2, random_state=42\n",
    ")"
   ]
  },
  {
   "cell_type": "code",
   "execution_count": null,
   "id": "5206b621-d291-4f2e-9bcc-08b00cc7b67b",
   "metadata": {},
   "outputs": [],
   "source": [
    "# Optimized model for small datasets\n",
    "classifier = tf.keras.Sequential([\n",
    "    tf.keras.layers.InputLayer(shape=(51,)),\n",
    "    tf.keras.layers.BatchNormalization(),\n",
    "    tf.keras.layers.Dense(32, activation='relu', kernel_regularizer='l2'),\n",
    "    tf.keras.layers.Dropout(0.4),\n",
    "    tf.keras.layers.Dense(16, activation='relu'),\n",
    "    tf.keras.layers.Dense(len(class_names), activation='softmax')\n",
    "])\n",
    "\n",
    "# Custom learning schedule\n",
    "optimizer = tf.keras.optimizers.Adam(learning_rate=0.0005)\n",
    "classifier.compile(\n",
    "    optimizer=optimizer,\n",
    "    loss='sparse_categorical_crossentropy',\n",
    "    metrics=['accuracy']\n",
    ")"
   ]
  },
  {
   "cell_type": "code",
   "execution_count": null,
   "id": "7458e843-ef92-4a45-a3f1-5b2cc6a36873",
   "metadata": {},
   "outputs": [],
   "source": [
    "# Enhanced training with validation\n",
    "history = classifier.fit(\n",
    "    X_train, y_train,\n",
    "    epochs=50,\n",
    "    batch_size=8,\n",
    "    validation_data=(X_test, y_test),\n",
    "    callbacks=[\n",
    "        tf.keras.callbacks.EarlyStopping(patience=15, restore_best_weights=True),\n",
    "        tf.keras.callbacks.ReduceLROnPlateau(factor=0.5, patience=5)\n",
    "    ]\n",
    ")"
   ]
  },
  {
   "cell_type": "code",
   "execution_count": null,
   "id": "b84d36bb-dbcf-491e-b21e-f85549df4786",
   "metadata": {},
   "outputs": [],
   "source": [
    "# Live prediction with confidence threshold\n",
    "def live_prediction(class_names, confidence_threshold=0.6):\n",
    "    cap = cv2.VideoCapture(0)\n",
    "    \n",
    "    while cap.isOpened():\n",
    "        ret, frame = cap.read()\n",
    "        if not ret:\n",
    "            break\n",
    "            \n",
    "        # Process frame\n",
    "        rgb_frame = cv2.cvtColor(frame, cv2.COLOR_BGR2RGB)\n",
    "        keypoints = extract_keypoints(rgb_frame)\n",
    "        \n",
    "        if keypoints is not None:\n",
    "            features = normalize_and_augment(keypoints).reshape(1, -1)\n",
    "            proba = classifier.predict(features, verbose=0)[0]\n",
    "            \n",
    "            if np.max(proba) > confidence_threshold:\n",
    "                class_idx = np.argmax(proba)\n",
    "                label = f\"{class_names[class_idx]} ({np.max(proba):.1f})\"\n",
    "            else:\n",
    "                label = \"Unknown pose\"\n",
    "            \n",
    "            # Draw keypoints\n",
    "            for y, x, conf in keypoints:\n",
    "                if conf > 0.3:\n",
    "                    cv2.circle(frame, (int(x*frame.shape[1]), int(y*frame.shape[0])), \n",
    "                               5, (0,255,0), -1)\n",
    "            \n",
    "            cv2.putText(frame, label, (10,30), \n",
    "                        cv2.FONT_HERSHEY_SIMPLEX, 1, (0,255,0), 2)\n",
    "        \n",
    "        cv2.imshow('Pose Estimation', frame)\n",
    "        if cv2.waitKey(1) & 0xFF == ord('q'):\n",
    "            break\n",
    "            \n",
    "    cap.release()\n",
    "    cv2.destroyAllWindows()\n",
    "\n",
    "live_prediction(class_names)"
   ]
  },
  {
   "cell_type": "code",
   "execution_count": null,
   "id": "66c54bcd-b29a-4a44-a6ce-d26e76c39732",
   "metadata": {},
   "outputs": [],
   "source": []
  }
 ],
 "metadata": {
  "kernelspec": {
   "display_name": "Python 3 (ipykernel)",
   "language": "python",
   "name": "python3"
  },
  "language_info": {
   "codemirror_mode": {
    "name": "ipython",
    "version": 3
   },
   "file_extension": ".py",
   "mimetype": "text/x-python",
   "name": "python",
   "nbconvert_exporter": "python",
   "pygments_lexer": "ipython3",
   "version": "3.10.16"
  }
 },
 "nbformat": 4,
 "nbformat_minor": 5
}
